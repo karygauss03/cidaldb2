{
 "cells": [
  {
   "cell_type": "markdown",
   "id": "e8a8f9ac",
   "metadata": {},
   "source": [
    "### Librairies "
   ]
  },
  {
   "cell_type": "code",
   "execution_count": 1,
   "id": "9de13d57",
   "metadata": {},
   "outputs": [],
   "source": [
    "import pandas as pd\n",
    "import numpy as np\n",
    "import matplotlib.pyplot as plt\n",
    "import pickle\n",
    "import time\n",
    "import warnings\n",
    "warnings.filterwarnings('ignore')\n",
    "from FingerPrint_Encoding import FingerprintGenerator\n",
    "from Split_data import Split_data\n",
    "from Classification_Benchmark_ML import Classification_Benchmark\n",
    "from sklearn.metrics import classification_report\n",
    "from sklearn.metrics import roc_curve ,RocCurveDisplay"
   ]
  },
  {
   "cell_type": "markdown",
   "id": "eea55cb6",
   "metadata": {},
   "source": [
    "## Data Loading"
   ]
  },
  {
   "cell_type": "code",
   "execution_count": 3,
   "id": "3ab8cb4f",
   "metadata": {},
   "outputs": [],
   "source": [
    "data = pd.read_csv (\"Cidals_Leishmania_Dataset_final.csv\")\n",
    "data"
   ]
  },
  {
   "cell_type": "code",
   "execution_count": 4,
   "id": "f5186b50",
   "metadata": {},
   "outputs": [],
   "source": [
    "type_counts = data['Activity'].value_counts() \n",
    "count = pd.DataFrame({'Activity': type_counts})\n",
    "count.head ()"
   ]
  },
  {
   "cell_type": "markdown",
   "id": "8c1790d9",
   "metadata": {},
   "source": [
    "## Machine Learning "
   ]
  },
  {
   "cell_type": "code",
   "execution_count": 3,
   "id": "629287b3",
   "metadata": {},
   "outputs": [],
   "source": [
    "shuffled_df = data.sample(frac=1).reset_index(drop=True)"
   ]
  },
  {
   "cell_type": "markdown",
   "id": "2ed02504",
   "metadata": {},
   "source": [
    "### RDK Fingerprint "
   ]
  },
  {
   "cell_type": "code",
   "execution_count": 4,
   "id": "dcc2715c",
   "metadata": {},
   "outputs": [],
   "source": [
    "model = \"rdk_fp\"\n",
    "fingerprint_generator = FingerprintGenerator(model)\n",
    "mols = fingerprint_generator.set_molecules(shuffled_df)\n",
    "fingerprint_generator.generate_fingerprints()"
   ]
  },
  {
   "cell_type": "code",
   "execution_count": 5,
   "id": "d80cfa83",
   "metadata": {},
   "outputs": [],
   "source": [
    "data_y= shuffled_df.label.values"
   ]
  },
  {
   "cell_type": "code",
   "execution_count": 6,
   "id": "e833fc0f",
   "metadata": {},
   "outputs": [],
   "source": [
    "x_rd = np.load('rd_fp.npy')\n",
    "split_size  = Split_data (0.2)\n",
    "x_train, y_train, x_val, y_val, x_test, y_test = split_size.split (x_rd,data_y)"
   ]
  },
  {
   "cell_type": "markdown",
   "id": "29a0e36c",
   "metadata": {},
   "source": [
    "#### Random Forest "
   ]
  },
  {
   "cell_type": "code",
   "execution_count": 5,
   "id": "5aafc73b",
   "metadata": {},
   "outputs": [],
   "source": [
    "model_name= 'RF'\n",
    "fp_name = \"Rdk\"\n",
    "data_state = \"Original\"\n",
    "model = Classification_Benchmark (model_name, fp_name, data_state)\n",
    "rf_model, score_train_rf = model.fit(x_train, y_train, export = True, name=\"original_rf_rdk_model\")\n",
    "df_rf_rdk , pred_val_rf, pred_test_rf =model.evaluate(rf_model,x_val, y_val , x_test, y_test, score_train_rf)\n",
    "print (\"classification report RF :\",classification_report(pred_test_rf,y_test))"
   ]
  },
  {
   "cell_type": "code",
   "execution_count": 6,
   "id": "ae276f62",
   "metadata": {},
   "outputs": [],
   "source": [
    "fpr, tpr,_ = roc_curve(y_test, pred_test_rf)\n",
    "plt.plot(fpr, tpr, label='ROC curve' )\n",
    "plt.plot([0, 1], [0, 1], 'k--')  # Diagonal line for random classifier\n",
    "plt.xlim([0.0, 1.0])\n",
    "plt.ylim([0.0, 1.05])\n",
    "plt.xlabel('False Positive Rate')\n",
    "plt.ylabel('True Positive Rate')\n",
    "plt.legend(loc=\"lower right\")\n",
    "plt.savefig(\"roc_auc_curve_RF_test.png\", dpi =300)"
   ]
  },
  {
   "cell_type": "markdown",
   "id": "e0ded781",
   "metadata": {},
   "source": [
    "####  Neural Network "
   ]
  },
  {
   "cell_type": "code",
   "execution_count": 7,
   "id": "5394fe6f",
   "metadata": {},
   "outputs": [],
   "source": [
    "model_name= 'MLP'\n",
    "fp_name = \"Rdk\"\n",
    "data_state = \"Original\"\n",
    "model = Classification_Benchmark (model_name, fp_name, data_state)\n",
    "NN_model, score_train_nn = model.fit(x_train, y_train, export = True, name=\"original_nn_rdk_model\")\n",
    "df_NN_rdk, pred_val_nn, pred_test_nn =model.evaluate(NN_model, x_val, y_val , x_test, y_test, score_train_nn)\n",
    "print (\"classification report NN :\",classification_report(pred_test_nn,y_test))"
   ]
  },
  {
   "cell_type": "code",
   "execution_count": 9,
   "id": "fda56b0e",
   "metadata": {},
   "outputs": [],
   "source": [
    "fpr, tpr,_ = roc_curve(y_test, pred_test_nn)\n",
    "plt.plot(fpr, tpr, label='ROC curve' )\n",
    "plt.plot([0, 1], [0, 1], 'k--')  # Diagonal line for random classifier\n",
    "plt.xlim([0.0, 1.0])\n",
    "plt.ylim([0.0, 1.05])\n",
    "plt.xlabel('False Positive Rate')\n",
    "plt.ylabel('True Positive Rate')\n",
    "plt.legend(loc=\"lower right\")\n",
    "plt.savefig(\"roc_auc_curve_NN_test.png\", dpi =300)"
   ]
  },
  {
   "cell_type": "markdown",
   "id": "3b3c6938",
   "metadata": {},
   "source": [
    "#### NAIVE BAIES"
   ]
  },
  {
   "cell_type": "code",
   "execution_count": 10,
   "id": "324d30c6",
   "metadata": {},
   "outputs": [],
   "source": [
    "model_name= 'NB'\n",
    "fp_name = \"Rdk\"\n",
    "data_state = \"Original\"\n",
    "model = Classification_Benchmark (model_name, fp_name, data_state)\n",
    "NB_model, score_train_nb = model.fit(x_train, y_train, export = True, name=\"original_nb_rdk_model\")\n",
    "df_nb_rdk, pred_val_nb, pred_test_nb =model.evaluate(NB_model, x_val, y_val , x_test, y_test, score_train_nb)\n",
    "print (\"classification report NB :\",classification_report(pred_test_nb,y_test))"
   ]
  },
  {
   "cell_type": "code",
   "execution_count": 11,
   "id": "214b9398",
   "metadata": {},
   "outputs": [],
   "source": [
    "fpr, tpr,_ = roc_curve(y_test, pred_test_nb)\n",
    "plt.plot(fpr, tpr, label='ROC curve' )\n",
    "plt.plot([0, 1], [0, 1], 'k--')  # Diagonal line for random classifier\n",
    "plt.xlim([0.0, 1.0])\n",
    "plt.ylim([0.0, 1.05])\n",
    "plt.xlabel('False Positive Rate')\n",
    "plt.ylabel('True Positive Rate')\n",
    "plt.legend(loc=\"lower right\")\n",
    "plt.savefig(\"roc_auc_curve_NB_test.png\", dpi =300)"
   ]
  },
  {
   "cell_type": "markdown",
   "id": "c685224b",
   "metadata": {},
   "source": [
    "#### XGBooost"
   ]
  },
  {
   "cell_type": "code",
   "execution_count": 12,
   "id": "75cc39e9",
   "metadata": {},
   "outputs": [],
   "source": [
    "model_name= 'GB'\n",
    "fp_name = \"Rdk\"\n",
    "data_state = \"Original\"\n",
    "model = Classification_Benchmark (model_name, fp_name, data_state)\n",
    "GB_model, score_train_gb = model.fit(x_train, y_train, export = True, name=\"original_GB_rdk_model\")\n",
    "sdf_gb_rdk, pred_val_gb, pred_test_gb =model.evaluate(GB_model, x_val, y_val , x_test, y_test, score_train_gb)\n",
    "print (\"classification report GB :\",classification_report(pred_test_gb,y_test))"
   ]
  },
  {
   "cell_type": "code",
   "execution_count": 13,
   "id": "449c88c4",
   "metadata": {},
   "outputs": [],
   "source": [
    "fpr, tpr,_ = roc_curve(y_test, pred_test_gb)\n",
    "plt.plot(fpr, tpr, label='ROC curve' )\n",
    "plt.plot([0, 1], [0, 1], 'k--')  # Diagonal line for random classifier\n",
    "plt.xlim([0.0, 1.0])\n",
    "plt.ylim([0.0, 1.05])\n",
    "plt.xlabel('False Positive Rate')\n",
    "plt.ylabel('True Positive Rate')\n",
    "plt.legend(loc=\"lower right\")\n",
    "plt.savefig(\"roc_auc_curve_GB_test.png\", dpi =300)"
   ]
  },
  {
   "cell_type": "code",
   "execution_count": null,
   "id": "561c037b",
   "metadata": {},
   "outputs": [],
   "source": []
  }
 ],
 "metadata": {
  "kernelspec": {
   "display_name": "Python 3 (ipykernel)",
   "language": "python",
   "name": "python3"
  },
  "language_info": {
   "codemirror_mode": {
    "name": "ipython",
    "version": 3
   },
   "file_extension": ".py",
   "mimetype": "text/x-python",
   "name": "python",
   "nbconvert_exporter": "python",
   "pygments_lexer": "ipython3",
   "version": "3.8.19"
  }
 },
 "nbformat": 4,
 "nbformat_minor": 5
}
