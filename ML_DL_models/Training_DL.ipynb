{
 "cells": [
  {
   "cell_type": "code",
   "execution_count": 2,
   "id": "e98a5084",
   "metadata": {},
   "outputs": [],
   "source": [
    "import pandas as pd\n",
    "import numpy as np\n",
    "import deepchem as dc\n",
    "import warnings\n",
    "warnings.filterwarnings('ignore')\n",
    "from Featurizer import Featurizer\n",
    "from Split_Data_DL import Split_data\n",
    "from Classification_Benchmark_DL import Classification\n",
    "from Predictions import Predict"
   ]
  },
  {
   "cell_type": "code",
   "execution_count": 3,
   "id": "7ef23617",
   "metadata": {},
   "outputs": [],
   "source": [
    "data = pd.read_csv (\"Cidals_Leishmania_Dataset_final.csv\")\n",
    "data"
   ]
  },
  {
   "cell_type": "code",
   "execution_count": 4,
   "id": "23469be3",
   "metadata": {},
   "outputs": [],
   "source": [
    "type_counts = data['label'].value_counts() \n",
    "count = pd.DataFrame({'activity': typea_counts} )\n",
    "count.head ()"
   ]
  },
  {
   "cell_type": "markdown",
   "id": "8fae0066",
   "metadata": {},
   "source": [
    "## Deep Learning"
   ]
  },
  {
   "cell_type": "markdown",
   "id": "fefcb1a6",
   "metadata": {},
   "source": [
    "###  GCN"
   ]
  },
  {
   "cell_type": "code",
   "execution_count": 5,
   "id": "ba3d30e3",
   "metadata": {},
   "outputs": [],
   "source": [
    "model = Featurizer(model= \"gcn\")\n",
    "data = \"Cidals_Leishmania_Dataset_final.csv\"\n",
    "dataset_gcn, transformers_gcn= model.featurize(data)"
   ]
  },
  {
   "cell_type": "code",
   "execution_count": 9,
   "id": "b7fdf347",
   "metadata": {},
   "outputs": [],
   "source": [
    "split_type = Split_data(split_type= \"random\")\n",
    "train_dataset, val_dataset, test_dataset = split_type.splitter(dataset_gcn)"
   ]
  },
  {
   "cell_type": "code",
   "execution_count": 13,
   "id": "de52b01b",
   "metadata": {},
   "outputs": [],
   "source": [
    "y_train_dataset = train_dataset.y\n",
    "y_val_dataset = val_dataset.y\n",
    "y_test_dataset = test_dataset.y"
   ]
  },
  {
   "cell_type": "code",
   "execution_count": 14,
   "id": "78ad3096",
   "metadata": {},
   "outputs": [],
   "source": [
    "model = Classification (model_name = \"gcn\", data_state= \"Original\")\n",
    "gcn_model, train_scores_gcn, valid_scores_gcn, test_scores_gcn = model.fit( train_dataset, val_dataset, test_dataset)"
   ]
  },
  {
   "cell_type": "code",
   "execution_count": 6,
   "id": "4a01a9a5",
   "metadata": {},
   "outputs": [],
   "source": [
    "df_metric_gcn = model.predict(gcn_model,train_dataset,y_train_dataset, val_dataset ,y_val_dataset, test_dataset, y_test_dataset , train_scores_gcn, valid_scores_gcn, test_scores_gcn)"
   ]
  },
  {
   "cell_type": "markdown",
   "id": "4b1e0fa7",
   "metadata": {},
   "source": [
    "### GAT "
   ]
  },
  {
   "cell_type": "code",
   "execution_count": 16,
   "id": "b5b9efac",
   "metadata": {},
   "outputs": [],
   "source": [
    "model = Classification (model_name = \"gat\", data_state= \"Original\")\n",
    "gat_model, train_scores_gat, valid_scores_gat, test_scores_gat = model.fit( train_dataset, val_dataset, test_dataset)"
   ]
  },
  {
   "cell_type": "code",
   "execution_count": 7,
   "id": "21ba7e8a",
   "metadata": {},
   "outputs": [],
   "source": [
    "df_metric_gat = model.predict(gat_model,train_dataset,y_train_dataset, val_dataset ,y_val_dataset, test_dataset, y_test_dataset , train_scores_gat, valid_scores_gat, test_scores_gat)"
   ]
  },
  {
   "cell_type": "markdown",
   "id": "784bf06d",
   "metadata": {},
   "source": [
    "### AFP"
   ]
  },
  {
   "cell_type": "code",
   "execution_count": 18,
   "id": "9c38673d",
   "metadata": {},
   "outputs": [],
   "source": [
    "model = Featurizer(model= \"afp\")\n",
    "data = \"Enriched_dataset_leishmania_03.csv\"\n",
    "dataset_afp, transformers_afp= model.featurize(data)"
   ]
  },
  {
   "cell_type": "code",
   "execution_count": 20,
   "id": "01446cf1",
   "metadata": {},
   "outputs": [],
   "source": [
    "split_type = Split_data(split_type= \"random\")\n",
    "train_dataset, val_dataset, test_dataset = split_type.splitter(dataset_afp)"
   ]
  },
  {
   "cell_type": "code",
   "execution_count": 21,
   "id": "14223818",
   "metadata": {},
   "outputs": [],
   "source": [
    "y_train_dataset = train_dataset.y\n",
    "y_val_dataset = val_dataset.y\n",
    "y_test_dataset = test_dataset.y"
   ]
  },
  {
   "cell_type": "code",
   "execution_count": 22,
   "id": "e1ee640b",
   "metadata": {},
   "outputs": [],
   "source": [
    "model = Classification (model_name = \"afp\", data_state= \"Original\")\n",
    "afp_model, train_scores_afp, valid_scores_afp, test_scores_afp = model.fit( train_dataset, val_dataset, test_dataset)"
   ]
  },
  {
   "cell_type": "code",
   "execution_count": 8,
   "id": "f131d95a",
   "metadata": {},
   "outputs": [],
   "source": [
    "df_metric_afp = model.predict(afp_model,train_dataset,y_train_dataset, val_dataset ,y_val_dataset, test_dataset, y_test_dataset , train_scores_afp, valid_scores_afp, test_scores_afp)"
   ]
  },
  {
   "cell_type": "markdown",
   "id": "ff453896",
   "metadata": {},
   "source": [
    "### MPNN "
   ]
  },
  {
   "cell_type": "code",
   "execution_count": 24,
   "id": "c3bf01c2",
   "metadata": {},
   "outputs": [],
   "source": [
    "model= Classification (model_name = \"mpnn\", data_state= \"Original\")\n",
    "mpnn_model, train_scores_mpnn, valid_scores_mpnn, test_scores_mpnn = model.fit( train_dataset, val_dataset, test_dataset)"
   ]
  },
  {
   "cell_type": "code",
   "execution_count": 9,
   "id": "2f1def10",
   "metadata": {},
   "outputs": [],
   "source": [
    "df_metric_mpnn = model.predict(mpnn_model,train_dataset,y_train_dataset, val_dataset ,y_val_dataset, test_dataset, y_test_dataset , train_scores_mpnn, valid_scores_mpnn, test_scores_mpnn)"
   ]
  }
 ],
 "metadata": {
  "kernelspec": {
   "display_name": "Python 3 (ipykernel)",
   "language": "python",
   "name": "python3"
  },
  "language_info": {
   "codemirror_mode": {
    "name": "ipython",
    "version": 3
   },
   "file_extension": ".py",
   "mimetype": "text/x-python",
   "name": "python",
   "nbconvert_exporter": "python",
   "pygments_lexer": "ipython3",
   "version": "3.8.19"
  }
 },
 "nbformat": 4,
 "nbformat_minor": 5
}
